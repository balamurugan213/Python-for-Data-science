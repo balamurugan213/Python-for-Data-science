{
 "cells": [
  {
   "cell_type": "markdown",
   "metadata": {},
   "source": [
    "#SYS Module\n"
   ]
  },
  {
   "cell_type": "code",
   "execution_count": null,
   "metadata": {},
   "outputs": [],
   "source": [
    "import sys\n",
    "\n",
    "for i in range(len(sys.argv)):\n",
    "    if i==0:\n",
    "        print(\"Function Name: %s\",sys.argv[0])\n",
    "    else:\n",
    "        print(\"%d Argument: %s\",i,sys.argv[i])"
   ]
  },
  {
   "cell_type": "markdown",
   "metadata": {},
   "source": [
    "![picture][./img/exp1.png]"
   ]
  },
  {
   "cell_type": "code",
   "execution_count": 1,
   "metadata": {},
   "outputs": [
    {
     "name": "stdout",
     "output_type": "stream",
     "text": [
      "Out: \n",
      "10\n"
     ]
    }
   ],
   "source": [
    "import sys\n",
    "\n",
    "def my_display(X):\n",
    "    print(\"Out: \")\n",
    "    print(X) \n",
    "\n",
    "# changing Interpreter behavior( output  )\n",
    "sys.displayhook=my_display\n",
    "\n",
    "a=10\n",
    "\n",
    "a"
   ]
  },
  {
   "cell_type": "markdown",
   "metadata": {},
   "source": [
    "SHELLS - stdin, stdout, stderr"
   ]
  },
  {
   "cell_type": "code",
   "execution_count": 2,
   "metadata": {},
   "outputs": [
    {
     "name": "stdout",
     "output_type": "stream",
     "text": [
      "<_io.TextIOWrapper name='<stdin>' mode='r' encoding='utf-8'>\n",
      "<ipykernel.iostream.OutStream object at 0x00000238E4227700>\n",
      "<ipykernel.iostream.OutStream object at 0x00000238E4227520>\n"
     ]
    }
   ],
   "source": [
    "import sys\n",
    "\n",
    "for i in (sys.stdin,sys.stderr,sys.stdout):\n",
    "    print(i)"
   ]
  },
  {
   "cell_type": "code",
   "execution_count": 2,
   "metadata": {},
   "outputs": [
    {
     "name": "stdout",
     "output_type": "stream",
     "text": [
      "GOing visa stdout\n",
      "Another wat to do it ! \n"
     ]
    }
   ],
   "source": [
    "import sys\n",
    "\n",
    "print(\"GOing visa stdout\")\n",
    "sys.stdout.write(\"Another wat to do it ! \\n\")\n",
    "x=  input(\"Read via stdin: \")\n",
    "print(x)\n",
    "print(\"Type in value: \",sys.stdin.readline()[-1])"
   ]
  },
  {
   "cell_type": "markdown",
   "metadata": {},
   "source": [
    "ReDirection\n",
    "stdout,stderr -> file"
   ]
  },
  {
   "cell_type": "code",
   "execution_count": 2,
   "metadata": {},
   "outputs": [
    {
     "name": "stdout",
     "output_type": "stream",
     "text": [
      "Coming through stdout\n"
     ]
    }
   ],
   "source": [
    "import sys\n",
    "\n",
    "print(\"Coming through stdout\")\n",
    "\n",
    "# stdout is saved \n",
    "save_stdout=sys.stdout\n",
    "\n",
    "fh =open(\"test.txt\",'w')\n",
    "\n",
    "sys.stdout=fh\n",
    "print(\"This line goes to test.txt\")\n",
    "\n",
    "# return to normal\n",
    "sys.stdout=save_stdout"
   ]
  },
  {
   "cell_type": "markdown",
   "metadata": {},
   "source": [
    "# variable and constant\n",
    "\n",
    "- byte order\n",
    "- executable\n",
    "- maxint\n",
    "- modules\n",
    "- path\n",
    "- platform\n"
   ]
  },
  {
   "cell_type": "markdown",
   "metadata": {},
   "source": [
    "# Shell\n",
    "A piece of software that provides an interface from a user to some other software or the operating system.\n"
   ]
  },
  {
   "cell_type": "code",
   "execution_count": null,
   "metadata": {},
   "outputs": [],
   "source": []
  },
  {
   "cell_type": "markdown",
   "metadata": {},
   "source": [
    "## System programming vs Application programming\n",
    "\n",
    "SP - Provide software or services to the computer hardware\n",
    "\n",
    "AP - Provide services or tools to the user uses\n",
    "\n",
    "system focused programming"
   ]
  },
  {
   "cell_type": "markdown",
   "metadata": {},
   "source": [
    "# OS Module\n",
    "\n",
    "Executing shell script with os.system()\n",
    "Pipes"
   ]
  }
 ],
 "metadata": {
  "kernelspec": {
   "display_name": "Python 3",
   "language": "python",
   "name": "python3"
  },
  "language_info": {
   "codemirror_mode": {
    "name": "ipython",
    "version": 3
   },
   "file_extension": ".py",
   "mimetype": "text/x-python",
   "name": "python",
   "nbconvert_exporter": "python",
   "pygments_lexer": "ipython3",
   "version": "3.12.0"
  }
 },
 "nbformat": 4,
 "nbformat_minor": 2
}
