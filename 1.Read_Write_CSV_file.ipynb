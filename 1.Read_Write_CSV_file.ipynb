{
  "nbformat": 4,
  "nbformat_minor": 0,
  "metadata": {
    "colab": {
      "name": "1.Read-Write CSV file.ipynb",
      "provenance": [],
      "authorship_tag": "ABX9TyOt9DYf49gQiquSKNbTE/ci",
      "include_colab_link": true
    },
    "kernelspec": {
      "name": "python3",
      "display_name": "Python 3"
    }
  },
  "cells": [
    {
      "cell_type": "markdown",
      "metadata": {
        "id": "view-in-github",
        "colab_type": "text"
      },
      "source": [
        "<a href=\"https://colab.research.google.com/github/balamurugan213/Python-for-Data-science/blob/main/1.Read_Write_CSV_file.ipynb\" target=\"_parent\"><img src=\"https://colab.research.google.com/assets/colab-badge.svg\" alt=\"Open In Colab\"/></a>"
      ]
    },
    {
      "cell_type": "markdown",
      "metadata": {
        "id": "OtjWGeyhLBXb"
      },
      "source": [
        "# **CSV (comma-separated values)**\n",
        "\n",
        "A CSV is a comma-separated values file, which allows data to be saved in a tabular format. CSVs look like a garden-variety spreadsheet but with a . csv extension. CSV files can be used with most any spreadsheet program, such as Microsoft Excel or Google Spreadsheets."
      ]
    },
    {
      "cell_type": "code",
      "metadata": {
        "colab": {
          "base_uri": "https://localhost:8080/"
        },
        "id": "JINrowmiKTUj",
        "outputId": "92381b43-7e6c-47fa-d3cf-c74ca6f8e35f"
      },
      "source": [
        "#To connect your google drive for file operations.\n",
        "from google.colab import drive\n",
        "drive.mount('/content/drive')"
      ],
      "execution_count": 1,
      "outputs": [
        {
          "output_type": "stream",
          "text": [
            "Mounted at /content/drive\n"
          ],
          "name": "stdout"
        }
      ]
    },
    {
      "cell_type": "markdown",
      "metadata": {
        "id": "Op73dGXiXRGx"
      },
      "source": [
        "### Reading a CSV file using built in liberary(csv)"
      ]
    },
    {
      "cell_type": "markdown",
      "metadata": {
        "id": "7hTbMuDgSLJP"
      },
      "source": [
        "### Function to load a csv file and print the rows.\n",
        "\n",
        "Upload the [following file](https://drive.google.com/file/d/14gxtTU0aWVX-lI1Ne5B5-ZZ7ap7zwrPG/view?usp=sharing) to your own Google Drive account.\n",
        "\n",
        "---\n",
        "\n",
        "To work with local file instead of csv use the following lines:\n",
        "\n",
        "```\n",
        "from google.colab import files\n",
        "uploaded = files.upload()\n",
        "```\n",
        "\n"
      ]
    },
    {
      "cell_type": "code",
      "metadata": {
        "colab": {
          "base_uri": "https://localhost:8080/"
        },
        "id": "mZM8vsguSRro",
        "outputId": "92bb7242-645a-43b5-eb86-4cd4e3ab597d"
      },
      "source": [
        "import csv\n",
        "def print_csv(filename):\n",
        "  \"\"\" open the file specified in filename as\n",
        "      csv_file and read the data\n",
        "  :param filename: csv file name\n",
        "  :print: print the csv data\n",
        "  \"\"\"\n",
        "  with open('/content/drive/My Drive/data/'+filename) as csv_file:\n",
        "      # Return a reader object which will iterate over lines in the given csvfile.\n",
        "      csv_reader = csv.reader(csv_file, delimiter=',')\n",
        "      for row in csv_reader:\n",
        "        print(row)\n",
        "\n",
        "#\n",
        "if __name__ == '__main__':\n",
        "    print_csv(\"freq.csv\")"
      ],
      "execution_count": 2,
      "outputs": [
        {
          "output_type": "stream",
          "text": [
            "['word', 'frequency']\n",
            "['Ora', '27']\n",
            "['Adrian', '27']\n",
            "['Nannie', '43']\n",
            "['Aiden', '40']\n",
            "['Rodney', '37']\n",
            "['Lizzie', '54']\n",
            "['Edgar', '51']\n",
            "['Stanley', '20']\n",
            "['Rachel', '23']\n",
            "['William', '40']\n",
            "['Della', '47']\n",
            "['Jack', '21']\n",
            "['Luis', '24']\n",
            "['Anne', '45']\n",
            "['Brett', '36']\n",
            "['Benjamin', '40']\n",
            "['Lottie', '33']\n",
            "['Christopher', '28']\n",
            "['Elmer', '62']\n",
            "['Martin', '21']\n",
            "['Lenora', '44']\n",
            "['Phillip', '44']\n",
            "['Lida', '33']\n",
            "['Eugenia', '38']\n",
            "['Joseph', '20']\n",
            "['Barbara', '57']\n",
            "['Sallie', '53']\n",
            "['Harriet', '52']\n",
            "['Rhoda', '23']\n",
            "['Emily', '56']\n",
            "['Celia', '60']\n",
            "['Lillian', '49']\n",
            "['Amelia', '45']\n",
            "['Jackson', '27']\n",
            "['Tom', '18']\n",
            "['Ruby', '36']\n",
            "['Martin', '48']\n",
            "['Joseph', '30']\n",
            "['Herbert', '39']\n",
            "['Bernice', '46']\n",
            "['Bernard', '29']\n",
            "['Landon', '42']\n",
            "['Lloyd', '60']\n",
            "['Randall', '60']\n",
            "['Emily', '40']\n",
            "['Jean', '40']\n",
            "['Randall', '55']\n",
            "['Jeffrey', '53']\n",
            "['Garrett', '47']\n",
            "['Lucinda', '57']\n",
            "['Eugene', '25']\n",
            "['Emma', '46']\n",
            "['Aaron', '46']\n",
            "['Keith', '42']\n",
            "['Theresa', '54']\n",
            "['Bill', '64']\n",
            "['Emilie', '59']\n",
            "['Gerald', '53']\n",
            "['Chris', '56']\n",
            "['Harriett', '32']\n",
            "['Mary', '28']\n",
            "['Mike', '61']\n",
            "['Connor', '19']\n",
            "['Lou', '23']\n",
            "['Loretta', '27']\n",
            "['Adrian', '58']\n",
            "['Amelia', '61']\n",
            "['Agnes', '35']\n",
            "['Claudia', '28']\n",
            "['Miguel', '55']\n",
            "['Laura', '24']\n",
            "['Charlotte', '47']\n",
            "['Don', '40']\n",
            "['Cecelia', '53']\n",
            "['Jesse', '34']\n",
            "['Andrew', '60']\n",
            "['Ada', '23']\n",
            "['Herbert', '38']\n",
            "['Daisy', '28']\n",
            "['Nellie', '41']\n",
            "['Clara', '36']\n",
            "['Jeff', '49']\n",
            "['Bruce', '64']\n",
            "['Sue', '54']\n",
            "['Anthony', '18']\n",
            "['Jeremiah', '62']\n",
            "['Roger', '52']\n",
            "['Cecilia', '58']\n",
            "['Wayne', '40']\n",
            "['Lina', '36']\n",
            "['Melvin', '63']\n",
            "['Willie', '57']\n",
            "['Joshua', '39']\n",
            "['Adam', '18']\n",
            "['Mamie', '50']\n",
            "['Brett', '51']\n",
            "['Celia', '52']\n",
            "['Brandon', '65']\n",
            "['Addie', '29']\n",
            "['Derek', '43']\n"
          ],
          "name": "stdout"
        }
      ]
    },
    {
      "cell_type": "code",
      "metadata": {
        "id": "82WlSjiPXMqb"
      },
      "source": [
        ""
      ],
      "execution_count": null,
      "outputs": []
    },
    {
      "cell_type": "markdown",
      "metadata": {
        "id": "XF_-xUALXpGZ"
      },
      "source": [
        ""
      ]
    },
    {
      "cell_type": "markdown",
      "metadata": {
        "id": "K8HIHjFHXvM5"
      },
      "source": [
        "### Writing a CSV file using built in liberary(csv)"
      ]
    },
    {
      "cell_type": "markdown",
      "metadata": {
        "id": "Uww4RankX0ov"
      },
      "source": [
        "\n",
        "1.   To write the file in drive jus open the file in the mounted drive location.\n",
        "\n",
        "```\n",
        "with open('/content/drive/MyDrive/data/data.csv', 'w', newline='') as file:\n",
        "```\n",
        "2.   To download the file in local:\n",
        "\n",
        "```\n",
        "from google.colab import files\n",
        "files.download('data.csv')\n",
        "```\n",
        "\n",
        "\n",
        "\n"
      ]
    },
    {
      "cell_type": "code",
      "metadata": {
        "id": "D7YW9iszX20X"
      },
      "source": [
        "import csv\n",
        "with open('data.csv', 'w', newline='') as file:\n",
        "    # writer = csv.writer(file)\n",
        "    writer = csv.writer(file, delimiter=' ',quotechar='|', quoting=csv.QUOTE_MINIMAL)\n",
        "    writer.writerow([\"SN\", \"Name\", \"Contribution\"])\n",
        "    writer.writerow([1, \"Linus Torvalds\", \"Linux Kernel\"])\n",
        "    writer.writerow([2, \"Tim Berners-Lee\", \"World Wide Web\"])\n",
        "    writer.writerow([3, \"Guido van Rossum\", \"Python Programming\"])"
      ],
      "execution_count": 7,
      "outputs": []
    },
    {
      "cell_type": "code",
      "metadata": {
        "colab": {
          "base_uri": "https://localhost:8080/",
          "height": 17
        },
        "id": "E1EAa-AwY47o",
        "outputId": "83ca4adf-ca1f-4db5-c7f5-a237c7054903"
      },
      "source": [
        "# download the csv file in local\n",
        "from google.colab import files\n",
        "files.download('data.csv')"
      ],
      "execution_count": 6,
      "outputs": [
        {
          "output_type": "display_data",
          "data": {
            "application/javascript": [
              "\n",
              "    async function download(id, filename, size) {\n",
              "      if (!google.colab.kernel.accessAllowed) {\n",
              "        return;\n",
              "      }\n",
              "      const div = document.createElement('div');\n",
              "      const label = document.createElement('label');\n",
              "      label.textContent = `Downloading \"${filename}\": `;\n",
              "      div.appendChild(label);\n",
              "      const progress = document.createElement('progress');\n",
              "      progress.max = size;\n",
              "      div.appendChild(progress);\n",
              "      document.body.appendChild(div);\n",
              "\n",
              "      const buffers = [];\n",
              "      let downloaded = 0;\n",
              "\n",
              "      const channel = await google.colab.kernel.comms.open(id);\n",
              "      // Send a message to notify the kernel that we're ready.\n",
              "      channel.send({})\n",
              "\n",
              "      for await (const message of channel.messages) {\n",
              "        // Send a message to notify the kernel that we're ready.\n",
              "        channel.send({})\n",
              "        if (message.buffers) {\n",
              "          for (const buffer of message.buffers) {\n",
              "            buffers.push(buffer);\n",
              "            downloaded += buffer.byteLength;\n",
              "            progress.value = downloaded;\n",
              "          }\n",
              "        }\n",
              "      }\n",
              "      const blob = new Blob(buffers, {type: 'application/binary'});\n",
              "      const a = document.createElement('a');\n",
              "      a.href = window.URL.createObjectURL(blob);\n",
              "      a.download = filename;\n",
              "      div.appendChild(a);\n",
              "      a.click();\n",
              "      div.remove();\n",
              "    }\n",
              "  "
            ],
            "text/plain": [
              "<IPython.core.display.Javascript object>"
            ]
          },
          "metadata": {
            "tags": []
          }
        },
        {
          "output_type": "display_data",
          "data": {
            "application/javascript": [
              "download(\"download_cc5ea5fc-a30b-4010-97d4-c83af39ba7c8\", \"eggs.csv\", 77)"
            ],
            "text/plain": [
              "<IPython.core.display.Javascript object>"
            ]
          },
          "metadata": {
            "tags": []
          }
        }
      ]
    },
    {
      "cell_type": "markdown",
      "metadata": {
        "id": "EgShwrcVW3YJ"
      },
      "source": [
        "### Reading a csv file and storing it in DataFrame using pandas"
      ]
    },
    {
      "cell_type": "code",
      "metadata": {
        "colab": {
          "base_uri": "https://localhost:8080/"
        },
        "id": "iIW5IEyxWnyl",
        "outputId": "c2bff46e-ce97-4ebb-f016-6ec98a2a00e9"
      },
      "source": [
        "import pandas as pd\n",
        "def csv_to_df(filename):\n",
        "  return pd.read_csv(\"/content/drive/My Drive/data/\"+filename)\n",
        " \n",
        "if __name__ == '__main__':\n",
        "    df = csv_to_df(\"freq.csv\")\n",
        "    print(df.head(10))\n",
        "    print(df.describe())"
      ],
      "execution_count": 3,
      "outputs": [
        {
          "output_type": "stream",
          "text": [
            "      word  frequency\n",
            "0      Ora         27\n",
            "1   Adrian         27\n",
            "2   Nannie         43\n",
            "3    Aiden         40\n",
            "4   Rodney         37\n",
            "5   Lizzie         54\n",
            "6    Edgar         51\n",
            "7  Stanley         20\n",
            "8   Rachel         23\n",
            "9  William         40\n",
            "        frequency\n",
            "count  100.000000\n",
            "mean    42.160000\n",
            "std     13.470297\n",
            "min     18.000000\n",
            "25%     29.750000\n",
            "50%     42.500000\n",
            "75%     53.250000\n",
            "max     65.000000\n"
          ],
          "name": "stdout"
        }
      ]
    },
    {
      "cell_type": "markdown",
      "metadata": {
        "id": "SbggP7fbdRb5"
      },
      "source": [
        "### Writing a csv file from DataFrame using pandas"
      ]
    },
    {
      "cell_type": "markdown",
      "metadata": {
        "id": "U4lCVJ4eddAG"
      },
      "source": [
        ""
      ]
    },
    {
      "cell_type": "code",
      "metadata": {
        "id": "NQcw9htGddu_"
      },
      "source": [
        "def df_to_csv(df,filename):\n",
        "   df.to_csv('/content/drive/My Drive/data/'+filename)\n",
        "    \n",
        "if __name__ == '__main__':\n",
        "  df_to_csv(df,\"freq_copy.csv\")"
      ],
      "execution_count": 8,
      "outputs": []
    }
  ]
}