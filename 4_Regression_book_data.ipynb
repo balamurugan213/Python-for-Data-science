{
  "nbformat": 4,
  "nbformat_minor": 0,
  "metadata": {
    "colab": {
      "provenance": [],
      "authorship_tag": "ABX9TyNtM+akdYAKyaqfinvtJG+d",
      "include_colab_link": true
    },
    "kernelspec": {
      "name": "python3",
      "display_name": "Python 3"
    },
    "language_info": {
      "name": "python"
    }
  },
  "cells": [
    {
      "cell_type": "markdown",
      "metadata": {
        "id": "view-in-github",
        "colab_type": "text"
      },
      "source": [
        "<a href=\"https://colab.research.google.com/github/balamurugan213/Python-for-Data-science/blob/main/4_Regression_book_data.ipynb\" target=\"_parent\"><img src=\"https://colab.research.google.com/assets/colab-badge.svg\" alt=\"Open In Colab\"/></a>"
      ]
    },
    {
      "cell_type": "markdown",
      "source": [
        "### Connecting to Drive\n",
        "Download the dataset [here](https://drive.google.com/file/d/10oV6ntGxGNAe4unmZqn-qRBDd9-_OCdK/view?usp=sharing)"
      ],
      "metadata": {
        "id": "2AeToHHCI9vl"
      }
    },
    {
      "cell_type": "code",
      "execution_count": null,
      "metadata": {
        "colab": {
          "base_uri": "https://localhost:8080/"
        },
        "id": "_fO6UpbsI0Qp",
        "outputId": "55e358cb-c2cf-4cc3-cbbe-edcdc1d88936"
      },
      "outputs": [
        {
          "output_type": "stream",
          "name": "stdout",
          "text": [
            "Mounted at /gdrive\n",
            "/gdrive/My Drive/data\n"
          ]
        }
      ],
      "source": [
        "from google.colab import drive\n",
        "drive.mount('/gdrive')\n",
        "%cd /gdrive/My Drive/data"
      ]
    },
    {
      "cell_type": "code",
      "source": [
        "import pandas as pd\n",
        "from sklearn.linear_model import LinearRegression\n",
        "from sklearn.model_selection import train_test_split\n",
        "from sklearn import metrics\n",
        "import numpy as np"
      ],
      "metadata": {
        "id": "unwwZF99JG6C"
      },
      "execution_count": null,
      "outputs": []
    },
    {
      "cell_type": "code",
      "source": [
        "data = pd.read_csv(\"amazon_books.csv\")\n",
        "data.head()"
      ],
      "metadata": {
        "colab": {
          "base_uri": "https://localhost:8080/",
          "height": 652
        },
        "id": "V_N-WdYOJLv5",
        "outputId": "e8a11554-72fd-4c6c-c4ab-0c9e1b4b94c1"
      },
      "execution_count": null,
      "outputs": [
        {
          "output_type": "execute_result",
          "data": {
            "text/plain": [
              "                                                 url  \\\n",
              "0  http://www.amazon.com/How-Bartender-Bartending...   \n",
              "1  http://www.amazon.com/Raise-Bar-Action-Based-C...   \n",
              "2  http://www.amazon.com/The-Professional-Bartend...   \n",
              "3  http://www.amazon.com/Double-Your-Tips-Jerry-M...   \n",
              "4  http://www.amazon.com/The-Bartenders-Bible-Mix...   \n",
              "\n",
              "                                               title           author  price  \\\n",
              "0  How to be a Bartender: Get a Bartending Job Wi...      Dave Allred   9.99   \n",
              "1  Raise the Bar: An Action-Based Method for Maxi...       Jon Taffer   2.00   \n",
              "2  The Professional Bartender's Handbook: A Recip...  Valerie Mellema   9.87   \n",
              "3           How to Double Your Tips [Kindle Edition]    Jerry Minchey   2.99   \n",
              "4  The Bartender's Bible: 1001 Mixed Drinks [Kind...       Gary Regan   5.99   \n",
              "\n",
              "    save  pages                                        description    size  \\\n",
              "0    NaN  171.0  In his revolutionary new book, Dave Allred (Th...   249.0   \n",
              "1  24.00  258.0  If there’s anyone who can prevent a bar or res...  1427.0   \n",
              "2  12.08  288.0  The Professional Bartenders Handbook is writte...  5643.0   \n",
              "3    NaN   36.0  How to Double Your Tips (For every waitress, w...    98.0   \n",
              "4   2.00  400.0  Mix Drinks Like A Pro Now you can with this in...   647.0   \n",
              "\n",
              "                                           publisher language text_to_speech  \\\n",
              "0                                                NaN  English        Enabled   \n",
              "1                                  Amazon Publishing  English        Enabled   \n",
              "2  Atlantic Publishing Group Inc.; illustrated ed...  English        Enabled   \n",
              "3                                  Stony River Media  English        Enabled   \n",
              "4                              HarperCollins e-books  English        Enabled   \n",
              "\n",
              "         x_ray      lending  customer_reviews  stars  \n",
              "0  Not Enabled      Enabled              23.0    4.9  \n",
              "1      Enabled      Enabled              80.0    4.7  \n",
              "2  Not Enabled  Not Enabled              32.0    4.2  \n",
              "3  Not Enabled      Enabled               6.0    4.5  \n",
              "4  Not Enabled  Not Enabled              59.0    3.6  "
            ],
            "text/html": [
              "\n",
              "\n",
              "  <div id=\"df-8ec68242-b88e-4ac8-a6b0-4555f1da1294\">\n",
              "    <div class=\"colab-df-container\">\n",
              "      <div>\n",
              "<style scoped>\n",
              "    .dataframe tbody tr th:only-of-type {\n",
              "        vertical-align: middle;\n",
              "    }\n",
              "\n",
              "    .dataframe tbody tr th {\n",
              "        vertical-align: top;\n",
              "    }\n",
              "\n",
              "    .dataframe thead th {\n",
              "        text-align: right;\n",
              "    }\n",
              "</style>\n",
              "<table border=\"1\" class=\"dataframe\">\n",
              "  <thead>\n",
              "    <tr style=\"text-align: right;\">\n",
              "      <th></th>\n",
              "      <th>url</th>\n",
              "      <th>title</th>\n",
              "      <th>author</th>\n",
              "      <th>price</th>\n",
              "      <th>save</th>\n",
              "      <th>pages</th>\n",
              "      <th>description</th>\n",
              "      <th>size</th>\n",
              "      <th>publisher</th>\n",
              "      <th>language</th>\n",
              "      <th>text_to_speech</th>\n",
              "      <th>x_ray</th>\n",
              "      <th>lending</th>\n",
              "      <th>customer_reviews</th>\n",
              "      <th>stars</th>\n",
              "    </tr>\n",
              "  </thead>\n",
              "  <tbody>\n",
              "    <tr>\n",
              "      <th>0</th>\n",
              "      <td>http://www.amazon.com/How-Bartender-Bartending...</td>\n",
              "      <td>How to be a Bartender: Get a Bartending Job Wi...</td>\n",
              "      <td>Dave Allred</td>\n",
              "      <td>9.99</td>\n",
              "      <td>NaN</td>\n",
              "      <td>171.0</td>\n",
              "      <td>In his revolutionary new book, Dave Allred (Th...</td>\n",
              "      <td>249.0</td>\n",
              "      <td>NaN</td>\n",
              "      <td>English</td>\n",
              "      <td>Enabled</td>\n",
              "      <td>Not Enabled</td>\n",
              "      <td>Enabled</td>\n",
              "      <td>23.0</td>\n",
              "      <td>4.9</td>\n",
              "    </tr>\n",
              "    <tr>\n",
              "      <th>1</th>\n",
              "      <td>http://www.amazon.com/Raise-Bar-Action-Based-C...</td>\n",
              "      <td>Raise the Bar: An Action-Based Method for Maxi...</td>\n",
              "      <td>Jon Taffer</td>\n",
              "      <td>2.00</td>\n",
              "      <td>24.00</td>\n",
              "      <td>258.0</td>\n",
              "      <td>If there’s anyone who can prevent a bar or res...</td>\n",
              "      <td>1427.0</td>\n",
              "      <td>Amazon Publishing</td>\n",
              "      <td>English</td>\n",
              "      <td>Enabled</td>\n",
              "      <td>Enabled</td>\n",
              "      <td>Enabled</td>\n",
              "      <td>80.0</td>\n",
              "      <td>4.7</td>\n",
              "    </tr>\n",
              "    <tr>\n",
              "      <th>2</th>\n",
              "      <td>http://www.amazon.com/The-Professional-Bartend...</td>\n",
              "      <td>The Professional Bartender's Handbook: A Recip...</td>\n",
              "      <td>Valerie Mellema</td>\n",
              "      <td>9.87</td>\n",
              "      <td>12.08</td>\n",
              "      <td>288.0</td>\n",
              "      <td>The Professional Bartenders Handbook is writte...</td>\n",
              "      <td>5643.0</td>\n",
              "      <td>Atlantic Publishing Group Inc.; illustrated ed...</td>\n",
              "      <td>English</td>\n",
              "      <td>Enabled</td>\n",
              "      <td>Not Enabled</td>\n",
              "      <td>Not Enabled</td>\n",
              "      <td>32.0</td>\n",
              "      <td>4.2</td>\n",
              "    </tr>\n",
              "    <tr>\n",
              "      <th>3</th>\n",
              "      <td>http://www.amazon.com/Double-Your-Tips-Jerry-M...</td>\n",
              "      <td>How to Double Your Tips [Kindle Edition]</td>\n",
              "      <td>Jerry Minchey</td>\n",
              "      <td>2.99</td>\n",
              "      <td>NaN</td>\n",
              "      <td>36.0</td>\n",
              "      <td>How to Double Your Tips (For every waitress, w...</td>\n",
              "      <td>98.0</td>\n",
              "      <td>Stony River Media</td>\n",
              "      <td>English</td>\n",
              "      <td>Enabled</td>\n",
              "      <td>Not Enabled</td>\n",
              "      <td>Enabled</td>\n",
              "      <td>6.0</td>\n",
              "      <td>4.5</td>\n",
              "    </tr>\n",
              "    <tr>\n",
              "      <th>4</th>\n",
              "      <td>http://www.amazon.com/The-Bartenders-Bible-Mix...</td>\n",
              "      <td>The Bartender's Bible: 1001 Mixed Drinks [Kind...</td>\n",
              "      <td>Gary Regan</td>\n",
              "      <td>5.99</td>\n",
              "      <td>2.00</td>\n",
              "      <td>400.0</td>\n",
              "      <td>Mix Drinks Like A Pro Now you can with this in...</td>\n",
              "      <td>647.0</td>\n",
              "      <td>HarperCollins e-books</td>\n",
              "      <td>English</td>\n",
              "      <td>Enabled</td>\n",
              "      <td>Not Enabled</td>\n",
              "      <td>Not Enabled</td>\n",
              "      <td>59.0</td>\n",
              "      <td>3.6</td>\n",
              "    </tr>\n",
              "  </tbody>\n",
              "</table>\n",
              "</div>\n",
              "      <button class=\"colab-df-convert\" onclick=\"convertToInteractive('df-8ec68242-b88e-4ac8-a6b0-4555f1da1294')\"\n",
              "              title=\"Convert this dataframe to an interactive table.\"\n",
              "              style=\"display:none;\">\n",
              "\n",
              "  <svg xmlns=\"http://www.w3.org/2000/svg\" height=\"24px\"viewBox=\"0 0 24 24\"\n",
              "       width=\"24px\">\n",
              "    <path d=\"M0 0h24v24H0V0z\" fill=\"none\"/>\n",
              "    <path d=\"M18.56 5.44l.94 2.06.94-2.06 2.06-.94-2.06-.94-.94-2.06-.94 2.06-2.06.94zm-11 1L8.5 8.5l.94-2.06 2.06-.94-2.06-.94L8.5 2.5l-.94 2.06-2.06.94zm10 10l.94 2.06.94-2.06 2.06-.94-2.06-.94-.94-2.06-.94 2.06-2.06.94z\"/><path d=\"M17.41 7.96l-1.37-1.37c-.4-.4-.92-.59-1.43-.59-.52 0-1.04.2-1.43.59L10.3 9.45l-7.72 7.72c-.78.78-.78 2.05 0 2.83L4 21.41c.39.39.9.59 1.41.59.51 0 1.02-.2 1.41-.59l7.78-7.78 2.81-2.81c.8-.78.8-2.07 0-2.86zM5.41 20L4 18.59l7.72-7.72 1.47 1.35L5.41 20z\"/>\n",
              "  </svg>\n",
              "      </button>\n",
              "\n",
              "\n",
              "\n",
              "    <div id=\"df-d2ddd67a-e147-4648-9a64-92e69d1fada1\">\n",
              "      <button class=\"colab-df-quickchart\" onclick=\"quickchart('df-d2ddd67a-e147-4648-9a64-92e69d1fada1')\"\n",
              "              title=\"Suggest charts.\"\n",
              "              style=\"display:none;\">\n",
              "\n",
              "<svg xmlns=\"http://www.w3.org/2000/svg\" height=\"24px\"viewBox=\"0 0 24 24\"\n",
              "     width=\"24px\">\n",
              "    <g>\n",
              "        <path d=\"M19 3H5c-1.1 0-2 .9-2 2v14c0 1.1.9 2 2 2h14c1.1 0 2-.9 2-2V5c0-1.1-.9-2-2-2zM9 17H7v-7h2v7zm4 0h-2V7h2v10zm4 0h-2v-4h2v4z\"/>\n",
              "    </g>\n",
              "</svg>\n",
              "      </button>\n",
              "    </div>\n",
              "\n",
              "<style>\n",
              "  .colab-df-quickchart {\n",
              "    background-color: #E8F0FE;\n",
              "    border: none;\n",
              "    border-radius: 50%;\n",
              "    cursor: pointer;\n",
              "    display: none;\n",
              "    fill: #1967D2;\n",
              "    height: 32px;\n",
              "    padding: 0 0 0 0;\n",
              "    width: 32px;\n",
              "  }\n",
              "\n",
              "  .colab-df-quickchart:hover {\n",
              "    background-color: #E2EBFA;\n",
              "    box-shadow: 0px 1px 2px rgba(60, 64, 67, 0.3), 0px 1px 3px 1px rgba(60, 64, 67, 0.15);\n",
              "    fill: #174EA6;\n",
              "  }\n",
              "\n",
              "  [theme=dark] .colab-df-quickchart {\n",
              "    background-color: #3B4455;\n",
              "    fill: #D2E3FC;\n",
              "  }\n",
              "\n",
              "  [theme=dark] .colab-df-quickchart:hover {\n",
              "    background-color: #434B5C;\n",
              "    box-shadow: 0px 1px 3px 1px rgba(0, 0, 0, 0.15);\n",
              "    filter: drop-shadow(0px 1px 2px rgba(0, 0, 0, 0.3));\n",
              "    fill: #FFFFFF;\n",
              "  }\n",
              "</style>\n",
              "\n",
              "    <script>\n",
              "      async function quickchart(key) {\n",
              "        const containerElement = document.querySelector('#' + key);\n",
              "        const charts = await google.colab.kernel.invokeFunction(\n",
              "            'suggestCharts', [key], {});\n",
              "      }\n",
              "    </script>\n",
              "\n",
              "      <script>\n",
              "\n",
              "function displayQuickchartButton(domScope) {\n",
              "  let quickchartButtonEl =\n",
              "    domScope.querySelector('#df-d2ddd67a-e147-4648-9a64-92e69d1fada1 button.colab-df-quickchart');\n",
              "  quickchartButtonEl.style.display =\n",
              "    google.colab.kernel.accessAllowed ? 'block' : 'none';\n",
              "}\n",
              "\n",
              "        displayQuickchartButton(document);\n",
              "      </script>\n",
              "      <style>\n",
              "    .colab-df-container {\n",
              "      display:flex;\n",
              "      flex-wrap:wrap;\n",
              "      gap: 12px;\n",
              "    }\n",
              "\n",
              "    .colab-df-convert {\n",
              "      background-color: #E8F0FE;\n",
              "      border: none;\n",
              "      border-radius: 50%;\n",
              "      cursor: pointer;\n",
              "      display: none;\n",
              "      fill: #1967D2;\n",
              "      height: 32px;\n",
              "      padding: 0 0 0 0;\n",
              "      width: 32px;\n",
              "    }\n",
              "\n",
              "    .colab-df-convert:hover {\n",
              "      background-color: #E2EBFA;\n",
              "      box-shadow: 0px 1px 2px rgba(60, 64, 67, 0.3), 0px 1px 3px 1px rgba(60, 64, 67, 0.15);\n",
              "      fill: #174EA6;\n",
              "    }\n",
              "\n",
              "    [theme=dark] .colab-df-convert {\n",
              "      background-color: #3B4455;\n",
              "      fill: #D2E3FC;\n",
              "    }\n",
              "\n",
              "    [theme=dark] .colab-df-convert:hover {\n",
              "      background-color: #434B5C;\n",
              "      box-shadow: 0px 1px 3px 1px rgba(0, 0, 0, 0.15);\n",
              "      filter: drop-shadow(0px 1px 2px rgba(0, 0, 0, 0.3));\n",
              "      fill: #FFFFFF;\n",
              "    }\n",
              "  </style>\n",
              "\n",
              "      <script>\n",
              "        const buttonEl =\n",
              "          document.querySelector('#df-8ec68242-b88e-4ac8-a6b0-4555f1da1294 button.colab-df-convert');\n",
              "        buttonEl.style.display =\n",
              "          google.colab.kernel.accessAllowed ? 'block' : 'none';\n",
              "\n",
              "        async function convertToInteractive(key) {\n",
              "          const element = document.querySelector('#df-8ec68242-b88e-4ac8-a6b0-4555f1da1294');\n",
              "          const dataTable =\n",
              "            await google.colab.kernel.invokeFunction('convertToInteractive',\n",
              "                                                     [key], {});\n",
              "          if (!dataTable) return;\n",
              "\n",
              "          const docLinkHtml = 'Like what you see? Visit the ' +\n",
              "            '<a target=\"_blank\" href=https://colab.research.google.com/notebooks/data_table.ipynb>data table notebook</a>'\n",
              "            + ' to learn more about interactive tables.';\n",
              "          element.innerHTML = '';\n",
              "          dataTable['output_type'] = 'display_data';\n",
              "          await google.colab.output.renderOutput(dataTable, element);\n",
              "          const docLink = document.createElement('div');\n",
              "          docLink.innerHTML = docLinkHtml;\n",
              "          element.appendChild(docLink);\n",
              "        }\n",
              "      </script>\n",
              "    </div>\n",
              "  </div>\n"
            ]
          },
          "metadata": {},
          "execution_count": 3
        }
      ]
    },
    {
      "cell_type": "markdown",
      "source": [
        "# Preprocessing\n"
      ],
      "metadata": {
        "id": "rnjrRQZRJXfG"
      }
    },
    {
      "cell_type": "markdown",
      "source": [
        "Removing NaN rows"
      ],
      "metadata": {
        "id": "JZMOTTC_JkTF"
      }
    },
    {
      "cell_type": "code",
      "source": [
        "data = data.dropna()"
      ],
      "metadata": {
        "id": "4DtOWN1bJdCG"
      },
      "execution_count": null,
      "outputs": []
    },
    {
      "cell_type": "markdown",
      "source": [
        "Converting USD to INR"
      ],
      "metadata": {
        "id": "VxTJw3yEJl7l"
      }
    },
    {
      "cell_type": "code",
      "source": [
        "# Converting price from USD to INR\n",
        "inr = 70.72\n",
        "def usd_to_inr(usd):\n",
        "  return usd * inr\n",
        "data[\"price\"] = data[\"price\"].apply(usd_to_inr)"
      ],
      "metadata": {
        "id": "u_LLeazSJhjP"
      },
      "execution_count": null,
      "outputs": []
    },
    {
      "cell_type": "code",
      "source": [
        "data.info()"
      ],
      "metadata": {
        "colab": {
          "base_uri": "https://localhost:8080/"
        },
        "id": "VvK69zCOJs5g",
        "outputId": "e247ae8d-0b66-407e-fb1a-0d24732d0e93"
      },
      "execution_count": null,
      "outputs": [
        {
          "output_type": "stream",
          "name": "stdout",
          "text": [
            "<class 'pandas.core.frame.DataFrame'>\n",
            "Int64Index: 32571 entries, 1 to 49193\n",
            "Data columns (total 15 columns):\n",
            " #   Column            Non-Null Count  Dtype  \n",
            "---  ------            --------------  -----  \n",
            " 0   url               32571 non-null  object \n",
            " 1   title             32571 non-null  object \n",
            " 2   author            32571 non-null  object \n",
            " 3   price             32571 non-null  float64\n",
            " 4   save              32571 non-null  float64\n",
            " 5   pages             32571 non-null  float64\n",
            " 6   description       32571 non-null  object \n",
            " 7   size              32571 non-null  float64\n",
            " 8   publisher         32571 non-null  object \n",
            " 9   language          32571 non-null  object \n",
            " 10  text_to_speech    32571 non-null  object \n",
            " 11  x_ray             32571 non-null  object \n",
            " 12  lending           32571 non-null  object \n",
            " 13  customer_reviews  32571 non-null  float64\n",
            " 14  stars             32571 non-null  float64\n",
            "dtypes: float64(6), object(9)\n",
            "memory usage: 4.0+ MB\n"
          ]
        }
      ]
    },
    {
      "cell_type": "markdown",
      "source": [
        "Correlation Between Columns"
      ],
      "metadata": {
        "id": "56FxRaJ6J0BN"
      }
    },
    {
      "cell_type": "code",
      "source": [
        "data.corr()"
      ],
      "metadata": {
        "colab": {
          "base_uri": "https://localhost:8080/",
          "height": 292
        },
        "id": "kID0kRPtJxE-",
        "outputId": "15cf6f7d-63a2-4939-edd7-7ab69bf8be81"
      },
      "execution_count": null,
      "outputs": [
        {
          "output_type": "stream",
          "name": "stderr",
          "text": [
            "<ipython-input-7-c44ded798807>:1: FutureWarning: The default value of numeric_only in DataFrame.corr is deprecated. In a future version, it will default to False. Select only valid columns or specify the value of numeric_only to silence this warning.\n",
            "  data.corr()\n"
          ]
        },
        {
          "output_type": "execute_result",
          "data": {
            "text/plain": [
              "                     price      save     pages      size  customer_reviews  \\\n",
              "price             1.000000  0.489153  0.233525  0.162954         -0.056055   \n",
              "save              0.489153  1.000000  0.184676  0.154055         -0.046905   \n",
              "pages             0.233525  0.184676  1.000000  0.089886          0.096139   \n",
              "size              0.162954  0.154055  0.089886  1.000000          0.011519   \n",
              "customer_reviews -0.056055 -0.046905  0.096139  0.011519          1.000000   \n",
              "stars             0.014894  0.023815 -0.038571  0.013122         -0.019341   \n",
              "\n",
              "                     stars  \n",
              "price             0.014894  \n",
              "save              0.023815  \n",
              "pages            -0.038571  \n",
              "size              0.013122  \n",
              "customer_reviews -0.019341  \n",
              "stars             1.000000  "
            ],
            "text/html": [
              "\n",
              "\n",
              "  <div id=\"df-b3b5854d-3b26-44ba-b3a9-e89e1db96962\">\n",
              "    <div class=\"colab-df-container\">\n",
              "      <div>\n",
              "<style scoped>\n",
              "    .dataframe tbody tr th:only-of-type {\n",
              "        vertical-align: middle;\n",
              "    }\n",
              "\n",
              "    .dataframe tbody tr th {\n",
              "        vertical-align: top;\n",
              "    }\n",
              "\n",
              "    .dataframe thead th {\n",
              "        text-align: right;\n",
              "    }\n",
              "</style>\n",
              "<table border=\"1\" class=\"dataframe\">\n",
              "  <thead>\n",
              "    <tr style=\"text-align: right;\">\n",
              "      <th></th>\n",
              "      <th>price</th>\n",
              "      <th>save</th>\n",
              "      <th>pages</th>\n",
              "      <th>size</th>\n",
              "      <th>customer_reviews</th>\n",
              "      <th>stars</th>\n",
              "    </tr>\n",
              "  </thead>\n",
              "  <tbody>\n",
              "    <tr>\n",
              "      <th>price</th>\n",
              "      <td>1.000000</td>\n",
              "      <td>0.489153</td>\n",
              "      <td>0.233525</td>\n",
              "      <td>0.162954</td>\n",
              "      <td>-0.056055</td>\n",
              "      <td>0.014894</td>\n",
              "    </tr>\n",
              "    <tr>\n",
              "      <th>save</th>\n",
              "      <td>0.489153</td>\n",
              "      <td>1.000000</td>\n",
              "      <td>0.184676</td>\n",
              "      <td>0.154055</td>\n",
              "      <td>-0.046905</td>\n",
              "      <td>0.023815</td>\n",
              "    </tr>\n",
              "    <tr>\n",
              "      <th>pages</th>\n",
              "      <td>0.233525</td>\n",
              "      <td>0.184676</td>\n",
              "      <td>1.000000</td>\n",
              "      <td>0.089886</td>\n",
              "      <td>0.096139</td>\n",
              "      <td>-0.038571</td>\n",
              "    </tr>\n",
              "    <tr>\n",
              "      <th>size</th>\n",
              "      <td>0.162954</td>\n",
              "      <td>0.154055</td>\n",
              "      <td>0.089886</td>\n",
              "      <td>1.000000</td>\n",
              "      <td>0.011519</td>\n",
              "      <td>0.013122</td>\n",
              "    </tr>\n",
              "    <tr>\n",
              "      <th>customer_reviews</th>\n",
              "      <td>-0.056055</td>\n",
              "      <td>-0.046905</td>\n",
              "      <td>0.096139</td>\n",
              "      <td>0.011519</td>\n",
              "      <td>1.000000</td>\n",
              "      <td>-0.019341</td>\n",
              "    </tr>\n",
              "    <tr>\n",
              "      <th>stars</th>\n",
              "      <td>0.014894</td>\n",
              "      <td>0.023815</td>\n",
              "      <td>-0.038571</td>\n",
              "      <td>0.013122</td>\n",
              "      <td>-0.019341</td>\n",
              "      <td>1.000000</td>\n",
              "    </tr>\n",
              "  </tbody>\n",
              "</table>\n",
              "</div>\n",
              "      <button class=\"colab-df-convert\" onclick=\"convertToInteractive('df-b3b5854d-3b26-44ba-b3a9-e89e1db96962')\"\n",
              "              title=\"Convert this dataframe to an interactive table.\"\n",
              "              style=\"display:none;\">\n",
              "\n",
              "  <svg xmlns=\"http://www.w3.org/2000/svg\" height=\"24px\"viewBox=\"0 0 24 24\"\n",
              "       width=\"24px\">\n",
              "    <path d=\"M0 0h24v24H0V0z\" fill=\"none\"/>\n",
              "    <path d=\"M18.56 5.44l.94 2.06.94-2.06 2.06-.94-2.06-.94-.94-2.06-.94 2.06-2.06.94zm-11 1L8.5 8.5l.94-2.06 2.06-.94-2.06-.94L8.5 2.5l-.94 2.06-2.06.94zm10 10l.94 2.06.94-2.06 2.06-.94-2.06-.94-.94-2.06-.94 2.06-2.06.94z\"/><path d=\"M17.41 7.96l-1.37-1.37c-.4-.4-.92-.59-1.43-.59-.52 0-1.04.2-1.43.59L10.3 9.45l-7.72 7.72c-.78.78-.78 2.05 0 2.83L4 21.41c.39.39.9.59 1.41.59.51 0 1.02-.2 1.41-.59l7.78-7.78 2.81-2.81c.8-.78.8-2.07 0-2.86zM5.41 20L4 18.59l7.72-7.72 1.47 1.35L5.41 20z\"/>\n",
              "  </svg>\n",
              "      </button>\n",
              "\n",
              "\n",
              "\n",
              "    <div id=\"df-dddca637-a2ef-4cb0-8b2d-23e6c87e71d2\">\n",
              "      <button class=\"colab-df-quickchart\" onclick=\"quickchart('df-dddca637-a2ef-4cb0-8b2d-23e6c87e71d2')\"\n",
              "              title=\"Suggest charts.\"\n",
              "              style=\"display:none;\">\n",
              "\n",
              "<svg xmlns=\"http://www.w3.org/2000/svg\" height=\"24px\"viewBox=\"0 0 24 24\"\n",
              "     width=\"24px\">\n",
              "    <g>\n",
              "        <path d=\"M19 3H5c-1.1 0-2 .9-2 2v14c0 1.1.9 2 2 2h14c1.1 0 2-.9 2-2V5c0-1.1-.9-2-2-2zM9 17H7v-7h2v7zm4 0h-2V7h2v10zm4 0h-2v-4h2v4z\"/>\n",
              "    </g>\n",
              "</svg>\n",
              "      </button>\n",
              "    </div>\n",
              "\n",
              "<style>\n",
              "  .colab-df-quickchart {\n",
              "    background-color: #E8F0FE;\n",
              "    border: none;\n",
              "    border-radius: 50%;\n",
              "    cursor: pointer;\n",
              "    display: none;\n",
              "    fill: #1967D2;\n",
              "    height: 32px;\n",
              "    padding: 0 0 0 0;\n",
              "    width: 32px;\n",
              "  }\n",
              "\n",
              "  .colab-df-quickchart:hover {\n",
              "    background-color: #E2EBFA;\n",
              "    box-shadow: 0px 1px 2px rgba(60, 64, 67, 0.3), 0px 1px 3px 1px rgba(60, 64, 67, 0.15);\n",
              "    fill: #174EA6;\n",
              "  }\n",
              "\n",
              "  [theme=dark] .colab-df-quickchart {\n",
              "    background-color: #3B4455;\n",
              "    fill: #D2E3FC;\n",
              "  }\n",
              "\n",
              "  [theme=dark] .colab-df-quickchart:hover {\n",
              "    background-color: #434B5C;\n",
              "    box-shadow: 0px 1px 3px 1px rgba(0, 0, 0, 0.15);\n",
              "    filter: drop-shadow(0px 1px 2px rgba(0, 0, 0, 0.3));\n",
              "    fill: #FFFFFF;\n",
              "  }\n",
              "</style>\n",
              "\n",
              "    <script>\n",
              "      async function quickchart(key) {\n",
              "        const containerElement = document.querySelector('#' + key);\n",
              "        const charts = await google.colab.kernel.invokeFunction(\n",
              "            'suggestCharts', [key], {});\n",
              "      }\n",
              "    </script>\n",
              "\n",
              "      <script>\n",
              "\n",
              "function displayQuickchartButton(domScope) {\n",
              "  let quickchartButtonEl =\n",
              "    domScope.querySelector('#df-dddca637-a2ef-4cb0-8b2d-23e6c87e71d2 button.colab-df-quickchart');\n",
              "  quickchartButtonEl.style.display =\n",
              "    google.colab.kernel.accessAllowed ? 'block' : 'none';\n",
              "}\n",
              "\n",
              "        displayQuickchartButton(document);\n",
              "      </script>\n",
              "      <style>\n",
              "    .colab-df-container {\n",
              "      display:flex;\n",
              "      flex-wrap:wrap;\n",
              "      gap: 12px;\n",
              "    }\n",
              "\n",
              "    .colab-df-convert {\n",
              "      background-color: #E8F0FE;\n",
              "      border: none;\n",
              "      border-radius: 50%;\n",
              "      cursor: pointer;\n",
              "      display: none;\n",
              "      fill: #1967D2;\n",
              "      height: 32px;\n",
              "      padding: 0 0 0 0;\n",
              "      width: 32px;\n",
              "    }\n",
              "\n",
              "    .colab-df-convert:hover {\n",
              "      background-color: #E2EBFA;\n",
              "      box-shadow: 0px 1px 2px rgba(60, 64, 67, 0.3), 0px 1px 3px 1px rgba(60, 64, 67, 0.15);\n",
              "      fill: #174EA6;\n",
              "    }\n",
              "\n",
              "    [theme=dark] .colab-df-convert {\n",
              "      background-color: #3B4455;\n",
              "      fill: #D2E3FC;\n",
              "    }\n",
              "\n",
              "    [theme=dark] .colab-df-convert:hover {\n",
              "      background-color: #434B5C;\n",
              "      box-shadow: 0px 1px 3px 1px rgba(0, 0, 0, 0.15);\n",
              "      filter: drop-shadow(0px 1px 2px rgba(0, 0, 0, 0.3));\n",
              "      fill: #FFFFFF;\n",
              "    }\n",
              "  </style>\n",
              "\n",
              "      <script>\n",
              "        const buttonEl =\n",
              "          document.querySelector('#df-b3b5854d-3b26-44ba-b3a9-e89e1db96962 button.colab-df-convert');\n",
              "        buttonEl.style.display =\n",
              "          google.colab.kernel.accessAllowed ? 'block' : 'none';\n",
              "\n",
              "        async function convertToInteractive(key) {\n",
              "          const element = document.querySelector('#df-b3b5854d-3b26-44ba-b3a9-e89e1db96962');\n",
              "          const dataTable =\n",
              "            await google.colab.kernel.invokeFunction('convertToInteractive',\n",
              "                                                     [key], {});\n",
              "          if (!dataTable) return;\n",
              "\n",
              "          const docLinkHtml = 'Like what you see? Visit the ' +\n",
              "            '<a target=\"_blank\" href=https://colab.research.google.com/notebooks/data_table.ipynb>data table notebook</a>'\n",
              "            + ' to learn more about interactive tables.';\n",
              "          element.innerHTML = '';\n",
              "          dataTable['output_type'] = 'display_data';\n",
              "          await google.colab.output.renderOutput(dataTable, element);\n",
              "          const docLink = document.createElement('div');\n",
              "          docLink.innerHTML = docLinkHtml;\n",
              "          element.appendChild(docLink);\n",
              "        }\n",
              "      </script>\n",
              "    </div>\n",
              "  </div>\n"
            ]
          },
          "metadata": {},
          "execution_count": 7
        }
      ]
    },
    {
      "cell_type": "code",
      "source": [
        "data.plot(y=\"price\",x=\"pages\",kind=\"scatter\")"
      ],
      "metadata": {
        "colab": {
          "base_uri": "https://localhost:8080/",
          "height": 466
        },
        "id": "itCPdcIhJ_Au",
        "outputId": "74124109-6102-422c-b782-2002f945b410"
      },
      "execution_count": null,
      "outputs": [
        {
          "output_type": "execute_result",
          "data": {
            "text/plain": [
              "<Axes: xlabel='pages', ylabel='price'>"
            ]
          },
          "metadata": {},
          "execution_count": 8
        },
        {
          "output_type": "display_data",
          "data": {
            "text/plain": [
              "<Figure size 640x480 with 1 Axes>"
            ],
            "image/png": "[encoded data removed]"
          },
          "metadata": {}
        }
      ]
    },
    {
      "cell_type": "markdown",
      "source": [
        "+ve correlation between number of pages and the price. Let us build a simple linear regressor that takes in number of pages and outputs the price of the book."
      ],
      "metadata": {
        "id": "CydKdAasKDV9"
      }
    },
    {
      "cell_type": "markdown",
      "source": [
        "# Regression"
      ],
      "metadata": {
        "id": "wHwc3m11KG6l"
      }
    },
    {
      "cell_type": "code",
      "source": [
        "def train(model,X,y):\n",
        "  return model.fit(X, y)\n",
        "\n",
        "def predict(model,X):\n",
        "  X = [[X]]\n",
        "  return model.predict(X)[0][0]"
      ],
      "metadata": {
        "id": "AOhZGj2wKE2N"
      },
      "execution_count": null,
      "outputs": []
    },
    {
      "cell_type": "code",
      "source": [
        "y = data[[\"price\"]]\n",
        "X = data[[\"pages\"]]\n",
        "model = LinearRegression()\n",
        "reg = train(model,X.values,y)"
      ],
      "metadata": {
        "id": "MIjIdhKsKNzO"
      },
      "execution_count": null,
      "outputs": []
    },
    {
      "cell_type": "markdown",
      "source": [
        "Predicting the cost of a book based on number of pages"
      ],
      "metadata": {
        "id": "Po-pHBKrKPfN"
      }
    },
    {
      "cell_type": "code",
      "source": [
        "predict(model,500)"
      ],
      "metadata": {
        "colab": {
          "base_uri": "https://localhost:8080/"
        },
        "id": "eP_sgxr9KRA2",
        "outputId": "33a00a76-a6e9-4f29-df14-816d7437343b"
      },
      "execution_count": null,
      "outputs": [
        {
          "output_type": "execute_result",
          "data": {
            "text/plain": [
              "761.5090237560057"
            ]
          },
          "metadata": {},
          "execution_count": 14
        }
      ]
    },
    {
      "cell_type": "code",
      "source": [
        "predict(model,220)"
      ],
      "metadata": {
        "colab": {
          "base_uri": "https://localhost:8080/"
        },
        "id": "rxXR0wqjKgvz",
        "outputId": "cb4e5a2d-ad38-458c-8e59-ce7608dd523f"
      },
      "execution_count": null,
      "outputs": [
        {
          "output_type": "execute_result",
          "data": {
            "text/plain": [
              "572.607469195498"
            ]
          },
          "metadata": {},
          "execution_count": 15
        }
      ]
    },
    {
      "cell_type": "markdown",
      "source": [
        "### Testing\n",
        "#### Dividing data into testing data and Training data\n",
        "\n"
      ],
      "metadata": {
        "id": "5w14cuwTLDhz"
      }
    },
    {
      "cell_type": "code",
      "source": [
        "X_train, X_test, y_train, y_test = train_test_split(data[[\"pages\"]], data[[\"price\"]], test_size=0.2,random_state=42)\n",
        "model = LinearRegression()\n",
        "reg = train(model,X_train,y_train)\n",
        "predictions = reg.predict(X_test)\n",
        "predictions_t = reg.predict(X_train)"
      ],
      "metadata": {
        "id": "Af_jkkhwLB7R"
      },
      "execution_count": null,
      "outputs": []
    },
    {
      "cell_type": "markdown",
      "source": [
        "## Why Root mean square ?\n",
        "The root-mean-square error (RMSE) is a frequently used measure of the differences between acutal values and predicted values. The RMSE for your training and your test sets should be very similar if you have built a good model. If the RMSE for the test set is much higher than that of the training set, it is likely that you've badly over fit the data.\n"
      ],
      "metadata": {
        "id": "IaE4t227LXhw"
      }
    },
    {
      "cell_type": "code",
      "source": [
        "# print('Mean Absolute Error:', metrics.mean_absolute_error(y_test, predictions))\n",
        "# print('Mean Squared Error:', metrics.mean_squared_error(y_test, predictions))\n",
        "print('Root Mean Squared Error for train set:', np.sqrt(metrics.mean_squared_error(y_train, predictions_t)))\n",
        "print('Root Mean Squared Error for test set:', np.sqrt(metrics.mean_squared_error(y_test, predictions)))"
      ],
      "metadata": {
        "colab": {
          "base_uri": "https://localhost:8080/"
        },
        "id": "fACWiUMKLepA",
        "outputId": "10d11ba3-7e91-42f7-f3a8-6803e2b20cc1"
      },
      "execution_count": null,
      "outputs": [
        {
          "output_type": "stream",
          "name": "stdout",
          "text": [
            "Root Mean Squared Error for train set: 583.0424607602409\n",
            "Root Mean Squared Error for test set: 499.5207092790631\n"
          ]
        }
      ]
    }
  ]
}