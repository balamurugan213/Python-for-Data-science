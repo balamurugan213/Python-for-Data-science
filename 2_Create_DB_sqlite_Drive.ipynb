{
  "nbformat": 4,
  "nbformat_minor": 0,
  "metadata": {
    "colab": {
      "provenance": [],
      "authorship_tag": "ABX9TyMrzsTD7ZdPgxRoGEwx2Ked",
      "include_colab_link": true
    },
    "kernelspec": {
      "name": "python3",
      "display_name": "Python 3"
    },
    "language_info": {
      "name": "python"
    }
  },
  "cells": [
    {
      "cell_type": "markdown",
      "metadata": {
        "id": "view-in-github",
        "colab_type": "text"
      },
      "source": [
        "<a href=\"https://colab.research.google.com/github/balamurugan213/Python-for-Data-science/blob/main/2_Create_DB_sqlite_Drive.ipynb\" target=\"_parent\"><img src=\"https://colab.research.google.com/assets/colab-badge.svg\" alt=\"Open In Colab\"/></a>"
      ]
    },
    {
      "cell_type": "markdown",
      "source": [],
      "metadata": {
        "id": "akbcUuWNLPE6"
      }
    },
    {
      "cell_type": "code",
      "execution_count": 1,
      "metadata": {
        "colab": {
          "base_uri": "https://localhost:8080/"
        },
        "id": "Qn0qDN3wKnoG",
        "outputId": "bc249ef5-c984-4abf-f3bd-8a809ad0c4ec"
      },
      "outputs": [
        {
          "output_type": "stream",
          "name": "stdout",
          "text": [
            "Mounted at /content/drive\n"
          ]
        }
      ],
      "source": [
        "from google.colab import drive\n",
        "drive.mount('/content/drive')"
      ]
    },
    {
      "cell_type": "markdown",
      "source": [
        "We will be working with sqlite DB The entire database will be stored in one .DB file."
      ],
      "metadata": {
        "id": "HsyojyD4LPgq"
      }
    },
    {
      "cell_type": "code",
      "source": [
        "import sqlite3\n",
        "\n",
        "# HOST = \"localhost\"\n",
        "# USER_NAME = \"root\"\n",
        "# PASSWORD = \"\"\n",
        "DB_NAME = \"/content/drive/My Drive/data/database.db\"\n",
        "\n",
        "\n",
        "def create_connection(db_file):\n",
        "    \"\"\" create a database connection to the SQLite database\n",
        "        specified by the db_file\n",
        "    :param db_file: database file\n",
        "    :return: Connection object or None\n",
        "    \"\"\"\n",
        "    try:\n",
        "        conn = sqlite3.connect(db_file)\n",
        "        return conn\n",
        "    except Exception as e:\n",
        "        print(e)\n",
        "\n",
        "    return None\n",
        "if __name__ == '__main__':\n",
        "#   Creating the database file\n",
        "  create_connection(DB_NAME)"
      ],
      "metadata": {
        "id": "ViVO3fLVKz4B"
      },
      "execution_count": 2,
      "outputs": []
    },
    {
      "cell_type": "markdown",
      "source": [
        "Creating a table in our DB"
      ],
      "metadata": {
        "id": "ikCBu4PBLclw"
      }
    },
    {
      "cell_type": "code",
      "source": [
        "def create_tables(conn, create_table_sql):\n",
        "    \"\"\" create a table from the create_table_sql statement\n",
        "    :param conn: Connection object\n",
        "    :param create_table_sql: a CREATE TABLE statement\n",
        "    :return:\n",
        "    \"\"\"\n",
        "    try:\n",
        "        c = conn.cursor()\n",
        "        c.execute(create_table_sql)\n",
        "        conn.commit()\n",
        "    except Exception as e:\n",
        "        print(\"Tables could not be created:\", e)\n",
        "\n",
        "\n",
        "def create_db():\n",
        "    \"\"\"\n",
        "    A function used to create a database file to store all the data\n",
        "    \"\"\"\n",
        "    connection = create_connection(DB_NAME)\n",
        "    sql_create_sites_table = \"\"\" CREATE TABLE IF NOT EXISTS sites (\n",
        "                                  id INTEGER PRIMARY KEY,\n",
        "                                  link text NOT NULL,\n",
        "                                  title text\n",
        "                                ); \"\"\"\n",
        "\n",
        "    create_tables(conn=connection, create_table_sql=sql_create_sites_table)\n",
        "\n",
        "if __name__ == '__main__':\n",
        "  create_db()"
      ],
      "metadata": {
        "id": "W7FA57mwLGWY"
      },
      "execution_count": 3,
      "outputs": []
    },
    {
      "cell_type": "markdown",
      "source": [
        "Running your SQL queries.\n",
        "If you do not know SQL syntax go here and read the following\n",
        "\n",
        "*  SELECT - extracts data from a database\n",
        "*  UPDATE - updates data in a database\n",
        "*  DELETE - deletes data from a database\n",
        "*  INSERT INTO - inserts new data into a database\n",
        "*  CREATE DATABASE - creates a new database\n",
        "*  CREATE TABLE - creates a new table\n"
      ],
      "metadata": {
        "id": "erklv7mOLi3T"
      }
    },
    {
      "cell_type": "code",
      "source": [
        "def run_query(conn, query, args=[]):\n",
        "    \"\"\" create a table from the create_table_sql statement\n",
        "    :param conn: Connection object\n",
        "    :param query: a SQL query\n",
        "    :return:\n",
        "    \"\"\"\n",
        "    cursor = conn.cursor()\n",
        "    if query.lower().startswith(\"select\"):\n",
        "        cursor.execute(query, args)\n",
        "        return cursor.fetchall()\n",
        "    else:\n",
        "        cursor.execute(query, args)\n",
        "    try:\n",
        "        conn.commit()\n",
        "    except Exception as e:\n",
        "        print(\"ERROR OCCURED WHILE DB COMMIT\", e)\n",
        "\n",
        "if __name__ == '__main__':\n",
        "  connection = create_connection(DB_NAME)\n",
        "  sql_query = \"\"\"INSERT INTO sites (id,link,title) VALUES (%s, '%s', '%s');\"\"\" % (2,\"http://www.google.com\",\"google\")\n",
        "  run_query(connection,sql_query)\n",
        "  sql_query = \"select * from sites\"\n",
        "  results = run_query(connection,sql_query)\n",
        "  print(results)"
      ],
      "metadata": {
        "colab": {
          "base_uri": "https://localhost:8080/"
        },
        "id": "aC5ClD3rLkVq",
        "outputId": "342e9c2d-fbd3-4871-a142-6acca91d0aba"
      },
      "execution_count": 4,
      "outputs": [
        {
          "output_type": "stream",
          "name": "stdout",
          "text": [
            "[(2, 'http://www.google.com', 'google')]\n"
          ]
        }
      ]
    }
  ]
}